{
    "cells": [
        {
            "cell_type": "markdown",
            "metadata": {
                "collapsed": true
            },
            "source": "<h1>Capstone Project \u2013 Data:</h1>\n\n<h2>Data Description:</h2>\n\nIn order to solve the business problem, I have decided to use the following data as listed below, which includes the Foursquare Location data API.\n\n\u2022\tGeographical co-ordinates data of sub districts (Boroughs) in Hyderabad city by zip code from GitHub repository.\nSource : https://github.com/sanand0/pincode/blob/master/data/IN.csv\n\n<h3>Use:</h3>\nThis data would be used for getting zip codes, for Borough/Neighbourhood mapping and helps to show points on map.\n\n\u2022\tVenue data for each Neighbourhood in the city using Foursquare API. I included venues within a 500 metre radius from each neighbourhood centre.\n\n<h3>Use:</h3>\nThe data helps us to identify similar Neighbourhoods using venues.\nAlso helps in clustering algorithm.\n\n\u2022\tGeo-Json data for GHMC (Hyderabad Municipality) for Choropleth Maps (to show real estate prices & population spread).\n\n<h3>Use:</h3>\nThe data helps us to show real estate prices & population spread on Choropleth Maps / Folium Maps.\n\n\u2022\tAverage House prices (per square feet) for each Neighbourhood in Hyderabad city.\nSource: https://www.makaan.com/price-trends/property-rates-for-buy-in-hyderabad\n\n<h3>Use:</h3>\nThe data helps us to show real estate prices on Choropleth Maps and to identify potential areas/Neighbourhoods where stores can be opened. \n"
        }
    ],
    "metadata": {
        "kernelspec": {
            "display_name": "Python 3.6",
            "language": "python",
            "name": "python3"
        },
        "language_info": {
            "codemirror_mode": {
                "name": "ipython",
                "version": 3
            },
            "file_extension": ".py",
            "mimetype": "text/x-python",
            "name": "python",
            "nbconvert_exporter": "python",
            "pygments_lexer": "ipython3",
            "version": "3.6.9"
        }
    },
    "nbformat": 4,
    "nbformat_minor": 1
}