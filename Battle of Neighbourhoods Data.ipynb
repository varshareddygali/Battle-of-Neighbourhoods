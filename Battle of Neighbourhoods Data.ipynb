{
    "cells": [
        {
            "cell_type": "markdown",
            "metadata": {
                "collapsed": true
            },
            "source": "<h1>Capstone Project \u2013 Data:</h1>\n\n<h2>Data Description:</h2>\n\n<b>The data used for this project will be acquired from the respective cities Wikipedia website pages. The\ndatasets consists of the postal codes, neighborhood names, latitude, and longitude information for\neach neighborhood. Foursquare API search feature will be used to collect neighborhood venue\ninformation. Details about local venues and locality will be provide insight into the qualities of a\nneighborhood. In addition to Foursquare, various python packages will be used to create maps and\nmachine learning models to further provide insights into our neighborhood battle project.</b>\n\n<h4>\nFor this project I've used the following data :\n</h4>    \n    \nToronto Neighborhoods - https://en.wikipedia.org/wiki/List_of_postal_codes_of_Canada:_M.\n    \nToronto Latitude and Longitude - http://cocl.us/Geospatial_data\n    \nNew York City neighborhoods - https://geo.nyu.edu/catalog/nyu_2451_34572\n    \nNew York City Latitude and Longitude = Python Geolibrar\n\nDescription : This data set contains the required information. And we will use this data set to explore various venues in scarborough -Toronto, Canada vs Queens- New York,USA.\n\nData source : Fousquare API : \"https://developer.foursquare.com/\"\n\nDescription : By using this api we will get all the venues in each neighborhood.\n    "
        }
    ],
    "metadata": {
        "kernelspec": {
            "display_name": "Python 3.6",
            "language": "python",
            "name": "python3"
        },
        "language_info": {
            "codemirror_mode": {
                "name": "ipython",
                "version": 3
            },
            "file_extension": ".py",
            "mimetype": "text/x-python",
            "name": "python",
            "nbconvert_exporter": "python",
            "pygments_lexer": "ipython3",
            "version": "3.6.9"
        }
    },
    "nbformat": 4,
    "nbformat_minor": 1
}