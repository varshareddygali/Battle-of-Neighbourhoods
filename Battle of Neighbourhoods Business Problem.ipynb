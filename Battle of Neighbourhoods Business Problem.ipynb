{
    "cells": [
        {
            "cell_type": "markdown",
            "metadata": {
                "collapsed": true
            },
            "source": "<h1>Capstone Project \u2013 Business Statement:</h1>"
        },
        {
            "cell_type": "markdown",
            "metadata": {},
            "source": "<h1>Introduction:</h1>\n    <h2>Business Problem:</h2>\n\n\n<h3>Introduction</h3>\n   <b> This project will analyze neighborhoods between Toronto- Canada and New York City- New York,USA.\n    \nA Fortune 500 company plans to move its headquarters to a city that has good standard of living and quality of life is good.\nThis project will work on the advantages and disadvantages between places in two cities and determine which neighbourhood will\nbe the best fit for the company's employees and headquarters.</b>"
        }
    ],
    "metadata": {
        "kernelspec": {
            "display_name": "Python 3.6",
            "language": "python",
            "name": "python3"
        },
        "language_info": {
            "codemirror_mode": {
                "name": "ipython",
                "version": 3
            },
            "file_extension": ".py",
            "mimetype": "text/x-python",
            "name": "python",
            "nbconvert_exporter": "python",
            "pygments_lexer": "ipython3",
            "version": "3.6.9"
        }
    },
    "nbformat": 4,
    "nbformat_minor": 1
}