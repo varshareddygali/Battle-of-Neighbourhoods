{
    "cells": [
        {
            "cell_type": "markdown",
            "metadata": {
                "collapsed": true
            },
            "source": "<h1>Capstone Project \u2013 Business Statement:</h1>"
        },
        {
            "cell_type": "markdown",
            "metadata": {},
            "source": "<h1>Introduction:</h1>\n    <h2>Business Problem:</h2>\n\nIn this project we will help people who are looking for renting an apartment/house in Hyderabad. But they are not exactly sure about which Neighbourhood(s) to live in.\nThere are 2 business questions that need to be answered here.\n1.\tWhich part (area) of the city has cheaper rent \n2.\tWhich Neighbourhood(s) would be ideal in that part (as in point 1) for setting up their home in the city.\nIt would be ideal for newcomers to prefer lower real estate prices but at the same time they want to choose a secure neighbourhood where the population is high and more number of stores, as that reduces the need to travel far for daily essentials.\nWhen we consider the business problem, we can create a map and information chart where the real estate prices are placed on Hyderabad and each area is clustered according to the houses/stores density.\n\n\n<h2>Background:</h2>\n\nI have selected Hyderabad for my project since I am familiar with the same, being a resident of the city.\nHyderabad district is a metropolitan with a population of roughly 6 million and 16 sub districts (mandals). The city has a high population and population density. Being a crowded city leads the owners of shops and social sharing places in the city where the population is dense. \nThis clustering will ensure that Neighbourhoods with moderate real estate price and more number of houses/stores will be in single clustered together and hence would be used to answer the business problem.\n"
        }
    ],
    "metadata": {
        "kernelspec": {
            "display_name": "Python 3.6",
            "language": "python",
            "name": "python3"
        },
        "language_info": {
            "codemirror_mode": {
                "name": "ipython",
                "version": 3
            },
            "file_extension": ".py",
            "mimetype": "text/x-python",
            "name": "python",
            "nbconvert_exporter": "python",
            "pygments_lexer": "ipython3",
            "version": "3.6.9"
        }
    },
    "nbformat": 4,
    "nbformat_minor": 1
}