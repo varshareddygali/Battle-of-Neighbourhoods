{
    "cells": [
        {
            "cell_type": "markdown",
            "metadata": {
                "collapsed": true
            },
            "source": "<h1>Capstone Project \u2013 Business Statement:</h1>"
        },
        {
            "cell_type": "markdown",
            "metadata": {},
            "source": "<h1>Introduction:</h1>\n    <h2>Business Problem:</h2>\n\n\n<h3>Introduction</h3>\n\n   <b> This project will analyze neighborhoods between Toronto- Canada and New York City- New York,USA. The borough Scarborough population is 6.32 lakhs, whereas Queens has population of 22.7 lakhs.\n    \nA Fortune 500 company plans to move its headquarters to a city that has good standard of living and quality of life.\nThis project will work on the advantages and disadvantages between boroughs in two cities and determine which \nneighbourhood will be the best fit for the company's employees and headquarters.</b>\n    \n<h3>Objective</h3> \n\n<b>Understand the similarities and differences of neighbourhoods between Scarborough in Toronto and Queens in New York city\n\nTo select the best neighbourhood for a Fortune 500 company to move its headquarters based on venues</b>\n\n<h3>Questions that can be raised </h3>\n\n<b>Collect the neighoburhoods top venues\n\nForm neighoburhood based on venue categories using unsupervised k-means clustering algorithm</b><b>\n\nIdentify and understand the similarities and differences between the two borough neighbourhoods to obtain insights into the neighbourhoods\n    \nFind where the population is dense and variety of venues    \n</b>"
        }
    ],
    "metadata": {
        "kernelspec": {
            "display_name": "Python 3.6",
            "language": "python",
            "name": "python3"
        },
        "language_info": {
            "codemirror_mode": {
                "name": "ipython",
                "version": 3
            },
            "file_extension": ".py",
            "mimetype": "text/x-python",
            "name": "python",
            "nbconvert_exporter": "python",
            "pygments_lexer": "ipython3",
            "version": "3.6.9"
        }
    },
    "nbformat": 4,
    "nbformat_minor": 1
}